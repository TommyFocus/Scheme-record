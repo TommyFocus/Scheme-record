{
 "cells": [
  {
   "cell_type": "code",
   "execution_count": 1,
   "metadata": {},
   "outputs": [],
   "source": [
    "import cv2\n",
    "import numpy as np\n",
    "from matplotlib import pyplot as plt"
   ]
  },
  {
   "cell_type": "code",
   "execution_count": 2,
   "metadata": {},
   "outputs": [],
   "source": [
    "# read Data\n",
    "img = cv2.imread('imori.jpg').astype(np.float)"
   ]
  },
  {
   "cell_type": "code",
   "execution_count": 3,
   "metadata": {},
   "outputs": [],
   "source": [
    "# read filters\n",
    "# cv2.imread() 的系数是按 BGR 顺序排列的\n",
    "b = img[:, :, 0].copy()\n",
    "g = img[:, :, 1].copy()\n",
    "r = img[:, :, 2].copy()"
   ]
  },
  {
   "cell_type": "markdown",
   "metadata": {},
   "source": [
    "#### Question_01 通道变换"
   ]
  },
  {
   "cell_type": "code",
   "execution_count": 4,
   "metadata": {},
   "outputs": [
    {
     "data": {
      "text/plain": [
       "True"
      ]
     },
     "execution_count": 4,
     "metadata": {},
     "output_type": "execute_result"
    }
   ],
   "source": [
    "# 交换通道数据\n",
    "img[:, :, 0] = r\n",
    "img[:, :, 1] = g\n",
    "img[:, :, 2] = b\n",
    "\n",
    "# 导出结果\n",
    "cv2.imwrite('output_1.jpg', img)"
   ]
  },
  {
   "cell_type": "markdown",
   "metadata": {},
   "source": [
    "#### Question_02 图像灰度化"
   ]
  },
  {
   "cell_type": "code",
   "execution_count": 5,
   "metadata": {},
   "outputs": [
    {
     "data": {
      "text/plain": [
       "True"
      ]
     },
     "execution_count": 5,
     "metadata": {},
     "output_type": "execute_result"
    }
   ],
   "source": [
    "b = img[:, :, 0].copy()\n",
    "g = img[:, :, 1].copy()\n",
    "r = img[:, :, 2].copy()\n",
    "\n",
    "y = 0.2126*r + 0.7152*g + 0.0722*b\n",
    "\n",
    "# 导出结果\n",
    "cv2.imwrite('output_2.jpg', y)"
   ]
  },
  {
   "cell_type": "markdown",
   "metadata": {},
   "source": [
    "#### Question_3 图像二值化"
   ]
  },
  {
   "cell_type": "code",
   "execution_count": 6,
   "metadata": {},
   "outputs": [
    {
     "data": {
      "text/plain": [
       "True"
      ]
     },
     "execution_count": 6,
     "metadata": {},
     "output_type": "execute_result"
    }
   ],
   "source": [
    "b = img[:, :, 0].copy()\n",
    "g = img[:, :, 1].copy()\n",
    "r = img[:, :, 2].copy()\n",
    "\n",
    "y = 0.2126*r + 0.7152*g + 0.0722*b\n",
    "y = y.astype(np.uint8)\n",
    "\n",
    "th = 128\n",
    "y[y < th] = 0\n",
    "y[y > th] = 255\n",
    "\n",
    "cv2.imwrite('output_3.jpg', y)"
   ]
  },
  {
   "cell_type": "markdown",
   "metadata": {},
   "source": [
    "#### Question_4 大津二值化算法"
   ]
  },
  {
   "cell_type": "code",
   "execution_count": 7,
   "metadata": {},
   "outputs": [
    {
     "name": "stdout",
     "output_type": "stream",
     "text": [
      "threshold 130\n"
     ]
    },
    {
     "data": {
      "text/plain": [
       "True"
      ]
     },
     "execution_count": 7,
     "metadata": {},
     "output_type": "execute_result"
    }
   ],
   "source": [
    "H, W, C = img.shape\n",
    "\n",
    "y = 0.2126*img[..., 2] + 0.7152*img[..., 1] + 0.0722*img[..., 0]\n",
    "y = y.astype(np.uint8)\n",
    "\n",
    "max_sigma = 0\n",
    "max_t = 0\n",
    "\n",
    "for _t in range(1, 255):\n",
    "    v0 = y[np.where(y < _t)]\n",
    "    v1 = y[np.where(y >= _t)]\n",
    "    \n",
    "    m0 = np.mean(v0) if len(v0) > 0 else 0.\n",
    "    m1 = np.mean(v1) if len(v1) > 0 else 0.\n",
    "    \n",
    "    w0 = len(v0) / (H * W)\n",
    "    w1 = len(v1) / (H * W)\n",
    "    \n",
    "    sigma = w0 * w1 * ((m0 - m1) ** 2)\n",
    "    if sigma > max_sigma:\n",
    "        max_sigma = sigma\n",
    "        max_t = _t\n",
    "\n",
    "print('threshold', max_t)\n",
    "y[y < max_t] = 0\n",
    "y[y > max_t] = 255\n",
    "cv2.imwrite('output_4.jpg', y)"
   ]
  },
  {
   "cell_type": "code",
   "execution_count": null,
   "metadata": {},
   "outputs": [],
   "source": []
  }
 ],
 "metadata": {
  "kernelspec": {
   "display_name": "Python 3",
   "language": "python",
   "name": "python3"
  },
  "language_info": {
   "codemirror_mode": {
    "name": "ipython",
    "version": 3
   },
   "file_extension": ".py",
   "mimetype": "text/x-python",
   "name": "python",
   "nbconvert_exporter": "python",
   "pygments_lexer": "ipython3",
   "version": "3.6.9"
  }
 },
 "nbformat": 4,
 "nbformat_minor": 4
}
