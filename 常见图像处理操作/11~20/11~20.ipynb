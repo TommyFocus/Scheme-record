{
 "cells": [
  {
   "cell_type": "code",
   "execution_count": 1,
   "metadata": {},
   "outputs": [],
   "source": [
    "import cv2\n",
    "import numpy as np"
   ]
  },
  {
   "cell_type": "code",
   "execution_count": 17,
   "metadata": {},
   "outputs": [],
   "source": [
    "img = cv2.imread('imori.jpg')\n",
    "\n",
    "H, W, C = img.shape\n",
    "\n",
    "b = img[:, :, 0].copy()\n",
    "g = img[:, :, 1].copy()\n",
    "r = img[:, :, 2].copy()\n",
    "\n",
    "gray = 0.2126*r + 0.7152*g + 0.0722*b\n",
    "gray = gray.astype(np.uint8)"
   ]
  },
  {
   "cell_type": "markdown",
   "metadata": {},
   "source": [
    "#### Question_11 均值滤波器\n",
    "均值滤波器使用网格内像素的平均值"
   ]
  },
  {
   "cell_type": "code",
   "execution_count": 5,
   "metadata": {},
   "outputs": [
    {
     "data": {
      "text/plain": [
       "True"
      ]
     },
     "execution_count": 5,
     "metadata": {},
     "output_type": "execute_result"
    }
   ],
   "source": [
    "# Median Filter\n",
    "K_size = 3\n",
    "\n",
    "## Zero padding\n",
    "pad = K_size // 2\n",
    "out = np.zeros((H + pad*2, W + pad*2, C), dtype=np.float)\n",
    "out[pad:pad+H, pad:pad+W] = img.copy().astype(np.float)\n",
    "tmp = out.copy()\n",
    "\n",
    "for y in range(H):\n",
    "    for x in range(W):\n",
    "        for c in range(C):\n",
    "            out[pad+y, pad+x, c] = np.mean(tmp[y:y+K_size, x:x+K_size, c])\n",
    "\n",
    "out = out[pad:pad+H, pad:pad+W].astype(np.uint8)\n",
    "\n",
    "# Save result\n",
    "cv2.imwrite(\"output_11.jpg\", out)"
   ]
  },
  {
   "cell_type": "markdown",
   "metadata": {},
   "source": [
    "#### Question_12 Motion Filter\n",
    "Motion Filter 取对角线方向的像素平均值作为输出"
   ]
  },
  {
   "cell_type": "code",
   "execution_count": 14,
   "metadata": {},
   "outputs": [
    {
     "data": {
      "text/plain": [
       "True"
      ]
     },
     "execution_count": 14,
     "metadata": {},
     "output_type": "execute_result"
    }
   ],
   "source": [
    "# Median Filter\n",
    "K_size = 3\n",
    "K = np.diag([1] * K_size).astype(np.float)\n",
    "K /= K_size\n",
    "\n",
    "## Zero padding\n",
    "pad = K_size // 2\n",
    "out = np.zeros((H + pad*2, W + pad*2, C), dtype=np.float)\n",
    "out[pad:pad+H, pad:pad+W] = img.copy().astype(np.float)\n",
    "tmp = out.copy()\n",
    "\n",
    "for y in range(H):\n",
    "    for x in range(W):\n",
    "        for c in range(C):\n",
    "            out[pad+y, pad+x, c] = np.sum(K * tmp[y:y+K_size, x:x+K_size, c])\n",
    "\n",
    "out = out[pad:pad+H, pad:pad+W].astype(np.uint8)\n",
    "\n",
    "# Save result\n",
    "cv2.imwrite(\"output_12.jpg\", out)"
   ]
  },
  {
   "cell_type": "code",
   "execution_count": 16,
   "metadata": {},
   "outputs": [
    {
     "data": {
      "text/plain": [
       "True"
      ]
     },
     "execution_count": 16,
     "metadata": {},
     "output_type": "execute_result"
    }
   ],
   "source": [
    "K_size = 3\n",
    "\n",
    "pad = K_size // 2\n",
    "out = np.zeros((H + pad*2, W + pad*2, C), dtype=np.float)\n",
    "out[pad:pad+H, pad:pad+W] = img.copy().astype(np.float)\n",
    "tmp = out.copy()\n",
    "\n",
    "for y in range(H):\n",
    "    for x in range(W):\n",
    "        out[pad+y, pad+x] = np.max(tmp[y:y+K_size, x:x+K_size]) - np.min(tmp[y:y+K_size, x:x+K_size])\n",
    "out = out[pad:pad+H, pad:pad+W].astype(np.uint8)\n",
    "\n",
    "# Save result\n",
    "cv2.imwrite(\"output_13.jpg\", out)"
   ]
  },
  {
   "cell_type": "markdown",
   "metadata": {},
   "source": [
    "#### Question_14 微分滤波器\n",
    "获取邻接像素的差值（纵向、横向）"
   ]
  },
  {
   "cell_type": "code",
   "execution_count": 21,
   "metadata": {},
   "outputs": [
    {
     "data": {
      "text/plain": [
       "True"
      ]
     },
     "execution_count": 21,
     "metadata": {},
     "output_type": "execute_result"
    }
   ],
   "source": [
    "K_size = 3\n",
    "\n",
    "pad = K_size // 2\n",
    "out = np.zeros((H + pad*2, W + pad*2), dtype=np.float)\n",
    "out[pad:pad+H, pad:pad+W] = gray.copy().astype(np.float)\n",
    "tmp = out.copy()\n",
    "\n",
    "out_v = out.copy()\n",
    "out_h = out.copy()\n",
    "\n",
    "Kv = [[0., -1., 0.], \n",
    "      [0., 1., 0.], \n",
    "      [0., 0., 0.]]\n",
    "\n",
    "Kh = [[0., 0., 0.], \n",
    "      [-1., 1., 0.],\n",
    "      [0., 0., 0.]]\n",
    "\n",
    "for y in range(H):\n",
    "    for x in range(W):\n",
    "        out_v[pad+y, pad+x] = np.sum(Kv * tmp[y:y+K_size, x:x+K_size])\n",
    "        out_h[pad+y, pad+x] = np.sum(Kh * tmp[y:y+K_size, x:x+K_size])\n",
    "\n",
    "out_v[out_v < 0] = 0\n",
    "out_h[out_h < 0] = 0\n",
    "out_v[out_v > 255] = 255\n",
    "out_h[out_h > 255] = 255\n",
    "\n",
    "out_v = out_v[pad:pad+H, pad:pad+W].astype(np.uint8)\n",
    "out_h = out_h[pad:pad+H, pad:pad+W].astype(np.uint8)\n",
    "\n",
    "\n",
    "cv2.imwrite(\"output_14_v.jpg\", out_v)\n",
    "cv2.imwrite(\"output_14_h.jpg\", out_h)"
   ]
  },
  {
   "cell_type": "markdown",
   "metadata": {},
   "source": [
    "#### Question_15 Sobel滤波器"
   ]
  },
  {
   "cell_type": "code",
   "execution_count": 22,
   "metadata": {},
   "outputs": [
    {
     "data": {
      "text/plain": [
       "True"
      ]
     },
     "execution_count": 22,
     "metadata": {},
     "output_type": "execute_result"
    }
   ],
   "source": [
    "K_size = 3\n",
    "\n",
    "pad = K_size // 2\n",
    "out = np.zeros((H + pad*2, W + pad*2), dtype=np.float)\n",
    "out[pad:pad+H, pad:pad+W] = gray.copy().astype(np.float)\n",
    "tmp = out.copy()\n",
    "\n",
    "out_v = out.copy()\n",
    "out_h = out.copy()\n",
    "\n",
    "Kv = [[1., 0., -1.], \n",
    "      [2., 0., -2.], \n",
    "      [1., 0., -1.]]\n",
    "\n",
    "Kh = [[1., 2., 1.], \n",
    "      [0., 0., 0.],\n",
    "      [-1., -2., -1.]]\n",
    "\n",
    "for y in range(H):\n",
    "    for x in range(W):\n",
    "        out_v[pad+y, pad+x] = np.sum(Kv * tmp[y:y+K_size, x:x+K_size])\n",
    "        out_h[pad+y, pad+x] = np.sum(Kh * tmp[y:y+K_size, x:x+K_size])\n",
    "\n",
    "out_v[out_v < 0] = 0\n",
    "out_h[out_h < 0] = 0\n",
    "out_v[out_v > 255] = 255\n",
    "out_h[out_h > 255] = 255\n",
    "\n",
    "out_v = out_v[pad:pad+H, pad:pad+W].astype(np.uint8)\n",
    "out_h = out_h[pad:pad+H, pad:pad+W].astype(np.uint8)\n",
    "\n",
    "\n",
    "cv2.imwrite(\"output_15_v.jpg\", out_v)\n",
    "cv2.imwrite(\"output_15_h.jpg\", out_h)"
   ]
  },
  {
   "cell_type": "code",
   "execution_count": null,
   "metadata": {},
   "outputs": [],
   "source": []
  }
 ],
 "metadata": {
  "kernelspec": {
   "display_name": "Python 3",
   "language": "python",
   "name": "python3"
  },
  "language_info": {
   "codemirror_mode": {
    "name": "ipython",
    "version": 3
   },
   "file_extension": ".py",
   "mimetype": "text/x-python",
   "name": "python",
   "nbconvert_exporter": "python",
   "pygments_lexer": "ipython3",
   "version": "3.6.9"
  }
 },
 "nbformat": 4,
 "nbformat_minor": 4
}
