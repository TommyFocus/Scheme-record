{
 "cells": [
  {
   "cell_type": "code",
   "execution_count": 1,
   "metadata": {},
   "outputs": [],
   "source": [
    "import cv2\n",
    "import numpy as np\n",
    "from matplotlib import pyplot as plt"
   ]
  },
  {
   "cell_type": "code",
   "execution_count": 18,
   "metadata": {},
   "outputs": [],
   "source": [
    "img = cv2.imread(\"imori.jpg\")"
   ]
  },
  {
   "cell_type": "markdown",
   "metadata": {},
   "source": [
    "#### Question_06 减色处理"
   ]
  },
  {
   "cell_type": "code",
   "execution_count": 7,
   "metadata": {},
   "outputs": [
    {
     "data": {
      "text/plain": [
       "True"
      ]
     },
     "execution_count": 7,
     "metadata": {},
     "output_type": "execute_result"
    }
   ],
   "source": [
    "out = img.copy()\n",
    "\n",
    "\"\"\"\n",
    "val = {  32  (  0 <= val <  64)\n",
    "         96  ( 64 <= val < 128)\n",
    "        160  (128 <= val < 192)\n",
    "        224  (192 <= val < 256)\n",
    "\"\"\"\n",
    "out = out // 64 * 64 + 32\n",
    "\n",
    "cv2.imwrite(\"output_6.jpg\", out)"
   ]
  },
  {
   "cell_type": "markdown",
   "metadata": {},
   "source": [
    "#### Question_07 平均池化"
   ]
  },
  {
   "cell_type": "code",
   "execution_count": 8,
   "metadata": {},
   "outputs": [
    {
     "data": {
      "text/plain": [
       "True"
      ]
     },
     "execution_count": 8,
     "metadata": {},
     "output_type": "execute_result"
    }
   ],
   "source": [
    "out = img.copy()\n",
    "H, W, C = out.shape\n",
    "G = 8\n",
    "Nh = int(H / G)\n",
    "Nw = int(W / G)\n",
    "\n",
    "\"\"\"v = 1/|R| * Sum_{i in R} v_i\"\"\"\n",
    "\n",
    "for i in range(Nh):\n",
    "    for j in range(Nw):\n",
    "        for c in range(C):\n",
    "            out[G*i:G*(i+1), G*j:G*(j+1), c] = np.mean(out[G*i:G*(i+1), G*j:G*(j+1), c]).astype(np.int)\n",
    "\n",
    "cv2.imwrite(\"output_7.jpg\", out)"
   ]
  },
  {
   "cell_type": "markdown",
   "metadata": {},
   "source": [
    "#### Question_08 最大池化"
   ]
  },
  {
   "cell_type": "code",
   "execution_count": 9,
   "metadata": {},
   "outputs": [
    {
     "data": {
      "text/plain": [
       "True"
      ]
     },
     "execution_count": 9,
     "metadata": {},
     "output_type": "execute_result"
    }
   ],
   "source": [
    "out = img.copy()\n",
    "H, W, C = out.shape\n",
    "G = 8\n",
    "Nh = int(H / G)\n",
    "Nw = int(W / G)\n",
    "\n",
    "\"\"\"v = 1/|R| * Sum_{i in R} v_i\"\"\"\n",
    "\n",
    "for i in range(Nh):\n",
    "    for j in range(Nw):\n",
    "        for c in range(C):\n",
    "            out[G*i:G*(i+1), G*j:G*(j+1), c] = np.max(out[G*i:G*(i+1), G*j:G*(j+1), c]).astype(np.int)\n",
    "\n",
    "cv2.imwrite(\"output_8.jpg\", out)"
   ]
  },
  {
   "cell_type": "code",
   "execution_count": 7,
   "metadata": {},
   "outputs": [],
   "source": [
    "img = cv2.imread('imori_noise.jpg')"
   ]
  },
  {
   "cell_type": "markdown",
   "metadata": {},
   "source": [
    "#### Question_09 高斯滤波器"
   ]
  },
  {
   "cell_type": "code",
   "execution_count": 5,
   "metadata": {},
   "outputs": [
    {
     "data": {
      "text/plain": [
       "True"
      ]
     },
     "execution_count": 5,
     "metadata": {},
     "output_type": "execute_result"
    }
   ],
   "source": [
    "H, W, C = img.shape\n",
    "\n",
    "# kernel cfg               \n",
    "K_size = 3\n",
    "sigma = 1.3\n",
    "\n",
    "# padding\n",
    "pad = K_size // 2\n",
    "out = np.zeros((H + pad*2, W + pad*2, C), dtype=np.float)\n",
    "out[pad:pad+H, pad:pad+W] = img.copy().astype(np.float)\n",
    "\n",
    "# kernel init\n",
    "K = np.zeros((K_size, K_size), dtype=np.float)\n",
    "for x in range(-pad, -pad+K_size):\n",
    "    for y in range(-pad, -pad+K_size):\n",
    "        K[y+pad, x+pad] = np.exp(-(x**2 + y**2) / (2* (sigma**2)))\n",
    "\n",
    "K /= (sigma * np.sqrt(2 * np.pi))\n",
    "K /= K.sum()\n",
    "\n",
    "tmp = out.copy()\n",
    "\n",
    "for y in range(H):\n",
    "    for x in range(W):\n",
    "        for c in range(C):\n",
    "            out[pad+y, pad+x, c] = np.sum(K * tmp[y:y+K_size, x:x+K_size, c])\n",
    "\n",
    "out = out[pad:pad+H, pad:pad+W].astype(np.uint8)\n",
    "\n",
    "\n",
    "cv2.imwrite(\"output_9.jpg\", out)"
   ]
  },
  {
   "cell_type": "markdown",
   "metadata": {},
   "source": [
    "#### Question_10 中值滤波器"
   ]
  },
  {
   "cell_type": "code",
   "execution_count": 8,
   "metadata": {},
   "outputs": [
    {
     "data": {
      "text/plain": [
       "True"
      ]
     },
     "execution_count": 8,
     "metadata": {},
     "output_type": "execute_result"
    }
   ],
   "source": [
    "H, W, C = img.shape\n",
    "\n",
    "# Median Filter\n",
    "K_size = 3\n",
    "\n",
    "## Zero padding\n",
    "pad = K_size // 2\n",
    "out = np.zeros((H + pad*2, W + pad*2, C), dtype=np.float)\n",
    "out[pad:pad+H, pad:pad+W] = img.copy().astype(np.float)\n",
    "\n",
    "tmp = out.copy()\n",
    "\n",
    "for y in range(H):\n",
    "    for x in range(W):\n",
    "        for c in range(C):\n",
    "            out[pad+y, pad+x, c] = np.median(tmp[y:y+K_size, x:x+K_size, c])\n",
    "\n",
    "out = out[pad:pad+H, pad:pad+W].astype(np.uint8)\n",
    "\n",
    "# Save result\n",
    "cv2.imwrite(\"output_10.jpg\", out)"
   ]
  },
  {
   "cell_type": "code",
   "execution_count": null,
   "metadata": {},
   "outputs": [],
   "source": []
  }
 ],
 "metadata": {
  "kernelspec": {
   "display_name": "Python 3",
   "language": "python",
   "name": "python3"
  },
  "language_info": {
   "codemirror_mode": {
    "name": "ipython",
    "version": 3
   },
   "file_extension": ".py",
   "mimetype": "text/x-python",
   "name": "python",
   "nbconvert_exporter": "python",
   "pygments_lexer": "ipython3",
   "version": "3.6.9"
  }
 },
 "nbformat": 4,
 "nbformat_minor": 4
}
