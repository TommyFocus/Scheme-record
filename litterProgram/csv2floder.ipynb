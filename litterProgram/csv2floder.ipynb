{
 "cells": [
  {
   "cell_type": "code",
   "execution_count": null,
   "metadata": {},
   "outputs": [],
   "source": [
    "import os\n",
    "import pandas as pd\n",
    "import shutil\n",
    "\n",
    "#文件路径\n",
    "root_path = './dataset/' #根目录\n",
    "old_data_path = './dataset/train' #图片存放路径\n",
    "new_data_path = './dataset/new_data' #新的文件路径：按照类别标注（文件夹名）分别存放\n",
    "\n",
    "#读取cvs标注\n",
    "train = pd.read_csv(os.path.join(file_path, 'train.csv'))\n",
    "test = pd.read_csv(os.path.join(file_path, 'test.csv'))\n",
    "\n",
    "#把训练和标注文件放在一起，训练的时候再随机划分\n",
    "df = pd.concat([train, test], axis=0)\n",
    "\n",
    "#删除csv标注中的路径字符，只保留图片名\n",
    "df['image_path'] = df['image_path'].str.replace('img/', '')\n",
    "\n",
    "#重命名列\n",
    "df = df.rename({'image_path': 'imageName'},axis='columns')\n",
    "\n",
    "#复制文件夹到新的目录\n",
    "#存放类别的列表\n",
    "floder = []\n",
    "\n",
    "for i in filelist:\n",
    "    #取出图片文件对应的类别标注\n",
    "    a = df[df['imageName'] == i]['label'].iloc[0]\n",
    "    \n",
    "    #如果floder中没有保存文件的类别，则将它将它保存进列表，并创建新的类别文件夹\n",
    "    if a not in floder:\n",
    "        floder.append(a)\n",
    "        os.mkdir(os.path.join(new_path, str(a)))\n",
    "    \n",
    "    #移动图片到对应的类别文件夹\n",
    "    shutil.copy(os.path.join(old_path, str(i)), os.path.join(new_path, str(a)))"
   ]
  }
 ],
 "metadata": {
  "kernelspec": {
   "display_name": "Python 3",
   "language": "python",
   "name": "python3"
  },
  "language_info": {
   "codemirror_mode": {
    "name": "ipython",
    "version": 3
   },
   "file_extension": ".py",
   "mimetype": "text/x-python",
   "name": "python",
   "nbconvert_exporter": "python",
   "pygments_lexer": "ipython3",
   "version": "3.6.7"
  }
 },
 "nbformat": 4,
 "nbformat_minor": 2
}
